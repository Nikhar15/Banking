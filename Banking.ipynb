{
 "cells": [
  {
   "cell_type": "code",
   "execution_count": 8,
   "id": "0c7e91a4-d52a-4019-890d-1b0857c6a769",
   "metadata": {
    "tags": []
   },
   "outputs": [
    {
     "name": "stdin",
     "output_type": "stream",
     "text": [
      "Enter your Name:  NIKHAR VERMA\n",
      "Enter your Customer Id: gwalfgla\n",
      "Enter your Address:  Lucknow\n",
      "Enter your Personal Contact number :  07317396276\n",
      "Account Id :  fgeoofga\n",
      "Enter your Cust Object Of Customer:  aafhw\n",
      "Enter your Current balance : 10000\n",
      "Enter your Bank Name:  SBI\n",
      "Enter your IFSC Code:  SBIN0003981\n",
      "Location:  Lucnow\n",
      "Enter the minimum balance you want to keep: 1245\n"
     ]
    },
    {
     "name": "stdout",
     "output_type": "stream",
     "text": [
      "Customer Details :\n",
      "Customer Name             :  NIKHAR VERMA\n",
      "Customer Id               :  gwalfgla\n",
      "Address                   :  Lucknow\n",
      "Contact                   :  07317396276\n",
      "Account Id                :  fgeoofga\n",
      "Cust Object Of Customer   :  aafhw\n",
      "Current balance           :  10000\n",
      "Bank Details    :\n",
      "Bank Name                 :  SBI\n",
      "IFSC Code                 :  SBIN0003981\n",
      "Branch Name               :  Branch Name: \n",
      "Location                  :  Lucnow\n"
     ]
    },
    {
     "name": "stdin",
     "output_type": "stream",
     "text": [
      "Withdraw or Deposit : Deposit\n"
     ]
    },
    {
     "name": "stdout",
     "output_type": "stream",
     "text": [
      "Current Balance          :  12000\n",
      "Thank You\n"
     ]
    }
   ],
   "source": [
    "class bank:\n",
    "    def __init__(self, IFSC_code, bankname, branchname, loc):\n",
    "        self.IFSC_code=IFSC_code\n",
    "        self.bankname=bankname\n",
    "        self.branchname=branchname\n",
    "        self.loc=loc\n",
    "class customer:\n",
    "    def customerdata(self, CustomerID, custname, address, contactdetails):\n",
    "        self.CustomerID=CustomerID\n",
    "        self.custname=custname\n",
    "        self.address=address\n",
    "        self.contactdetails=contactdetails\n",
    "class account( bank, customer):\n",
    "    def set_account_data(self, AccountID, COOC, balance):\n",
    "        self.AccountID=AccountID\n",
    "        self.COOC=COOC\n",
    "        self.balance=balance\n",
    "    def getAccountInfo(self):\n",
    "        print(\"Customer Details :\")\n",
    "        print(\"Customer Name             : \", self.custname)\n",
    "        print(\"Customer Id               : \", self.CustomerID)\n",
    "        print(\"Address                   : \", self.address)\n",
    "        print(\"Contact                   : \", self.contactdetails)\n",
    "        print(\"Account Id                : \", self.AccountID)\n",
    "        print(\"Cust Object Of Customer   : \", self.COOC)\n",
    "        print(\"Current balance           : \", self.balance)\n",
    "        print(\"Bank Details    :\")\n",
    "        print(\"Bank Name                 : \", self.bankname)\n",
    "        print(\"IFSC Code                 : \", self.IFSC_code)\n",
    "        print(\"Branch Name               : \", self.branchname)\n",
    "        print(\"Location                  : \", self.loc)\n",
    "    def deposit(self):\n",
    "        self.balance+=2000\n",
    "    def withdraw(self):\n",
    "        self.balance-=500\n",
    "    def getBalance(self):\n",
    "        print(\"Current Balance          : \", self.balance)\n",
    "class SavingsAccount(account):\n",
    "    def set_SavingsAccount(self, SMinBalance):\n",
    "        self.SMinBalance=SMinBalance\n",
    "    def getAccountInfo(self):\n",
    "        print(\"Customer Details :\")\n",
    "        print(\"Customer Name             : \", self.custname)\n",
    "        print(\"Customer Id               : \", self.CustomerID)\n",
    "        print(\"Address                   : \", self.address)\n",
    "        print(\"Contact                   : \", self.contactdetails)\n",
    "        print(\"Account Id                : \", self.AccountID)\n",
    "        print(\"Cust Object Of Customer   : \", self.COOC)\n",
    "        print(\"Current balance           : \", self.balance)\n",
    "        print(\"Bank Details    :\")\n",
    "        print(\"Bank Name                 : \", self.bankname)\n",
    "        print(\"IFSC Code                 : \", self.IFSC_code)\n",
    "        print(\"Branch Name               : \", self.branchname)\n",
    "        print(\"Location                  : \", self.loc)\n",
    "    def deposit(self):\n",
    "        self.balance+=2000\n",
    "    def withdraw(self,min):\n",
    "        if self.balance > min:\n",
    "            self.balance-=500\n",
    "        else:\n",
    "            print(\"Insufficient Balance\")\n",
    "    def getBalance(self):\n",
    "        print(\"Current Balance          : \", self.balance)\n",
    "name=input(\"Enter your Name: \")\n",
    "CId=input(\"Enter your Customer Id:\")\n",
    "add=input(\"Enter your Address: \")\n",
    "Conc=input(\"Enter your Personal Contact number : \")\n",
    "AId=input(\"Account Id : \")\n",
    "Coc=input(\"Enter your Cust Object Of Customer: \")\n",
    "bal=int(input(\"Enter your Current balance :\"))\n",
    "bname=input(\"Enter your Bank Name: \")\n",
    "ifsc=input(\"Enter your IFSC Code: \")\n",
    "brname=(\"Branch Name: \")\n",
    "l=input(\"Location: \")\n",
    "minb=int(input(\"Enter the minimum balance you want to keep:\"))\n",
    "obj=SavingsAccount(IFSC_code=ifsc, bankname=bname, branchname=brname, loc=l)\n",
    "obj.customerdata(CustomerID=CId, custname=name, address=add, contactdetails=Conc)\n",
    "obj.set_account_data(AccountID=AId, COOC=Coc, balance=bal)\n",
    "obj.getAccountInfo()\n",
    "choice=input(\"Withdraw or Deposit :\")\n",
    "if choice == 'Withdraw':\n",
    "    obj.withdraw(minb)\n",
    "    obj.getBalance()\n",
    "elif choice == 'Deposit':\n",
    "    obj.deposit()\n",
    "    obj.getBalance()\n",
    "else:\n",
    "    print(\"Wrong Choice\")\n",
    "print(\"Thank You\")"
   ]
  },
  {
   "cell_type": "code",
   "execution_count": null,
   "id": "d01080aa-8ae6-4629-a9a3-a1e20d0e1948",
   "metadata": {},
   "outputs": [],
   "source": []
  },
  {
   "cell_type": "code",
   "execution_count": null,
   "id": "5071583d-5394-4994-93dd-0210981c2869",
   "metadata": {},
   "outputs": [],
   "source": []
  },
  {
   "cell_type": "code",
   "execution_count": null,
   "id": "51318365-4245-482e-9330-9885205ed221",
   "metadata": {},
   "outputs": [],
   "source": []
  },
  {
   "cell_type": "code",
   "execution_count": null,
   "id": "2e364faa-650c-4f94-96fc-53f701123f79",
   "metadata": {},
   "outputs": [],
   "source": []
  },
  {
   "cell_type": "code",
   "execution_count": null,
   "id": "23005c16-debb-4e4f-8f13-735fbdeeb902",
   "metadata": {},
   "outputs": [],
   "source": []
  }
 ],
 "metadata": {
  "kernelspec": {
   "display_name": "Python 3 (ipykernel)",
   "language": "python",
   "name": "python3"
  },
  "language_info": {
   "codemirror_mode": {
    "name": "ipython",
    "version": 3
   },
   "file_extension": ".py",
   "mimetype": "text/x-python",
   "name": "python",
   "nbconvert_exporter": "python",
   "pygments_lexer": "ipython3",
   "version": "3.9.13"
  },
  "widgets": {
   "application/vnd.jupyter.widget-state+json": {
    "state": {},
    "version_major": 2,
    "version_minor": 0
   }
  }
 },
 "nbformat": 4,
 "nbformat_minor": 5
}
